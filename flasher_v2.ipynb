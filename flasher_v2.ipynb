{
 "cells": [
  {
   "cell_type": "code",
   "execution_count": 1,
   "metadata": {},
   "outputs": [],
   "source": [
    "from flasher_lib import *"
   ]
  },
  {
   "cell_type": "code",
   "execution_count": 2,
   "metadata": {},
   "outputs": [],
   "source": [
    "#definir variables\n",
    "m=4\n",
    "delta=np.pi/3.7\n",
    "alpha=np.pi/2-np.pi/m\n",
    "epsilon=np.pi/36\n",
    "eta=(np.pi/m)-(epsilon/2)\n",
    "i=6\n",
    "j=m+1"
   ]
  },
  {
   "cell_type": "code",
   "execution_count": 3,
   "metadata": {},
   "outputs": [],
   "source": [
    "def encontrar_indice(modulos, distancia_k):\n",
    "    suma_modulos = 0\n",
    "    for idx, modulo in enumerate(modulos):\n",
    "        suma_modulos += modulo\n",
    "        if distancia_k < suma_modulos:\n",
    "            return idx\n",
    "    return -1  # Si no encuentra un índice adecuado"
   ]
  },
  {
   "cell_type": "code",
   "execution_count": 4,
   "metadata": {},
   "outputs": [],
   "source": [
    "def r_h_cte(i, m, delta, alpha, epsilon, altura):\n",
    "    modulos = []  # Lista para guardar las distancias euclidianas de los puntos p a lo largo de i\n",
    "    resultados = []  # Lista de tuplas para guardar los índices y remanentes encontrados\n",
    "\n",
    "    # Calcular las distancias euclidianas entre los puntos p(i,0)\n",
    "    for indice in range(1, i): #se elimina el primer modulo, ya que debe comenza desde p0 a p1\n",
    "        distancia = e_distance(p(indice, 0, m, delta, alpha, epsilon), p(indice + 1, 0, m, delta, alpha, epsilon))\n",
    "        modulos.append(distancia)\n",
    "    distancia_k = dk(altura, epsilon, m)\n",
    "    #print(\"distancia_k\", distancia_k)\n",
    "\n",
    "    puntos = np.floor(sum(modulos) / distancia_k)  # Calcular el número de puntos que se pueden recorrer\n",
    "    #print(\"cantidad de puntos\", puntos)\n",
    "    for i in range(int(puntos)):\n",
    "        indice = encontrar_indice(modulos, distancia_k*(i+1))\n",
    "        if indice == -1:\n",
    "            break\n",
    "        remanente = distancia_k*(i+1) - sum(modulos[:indice])\n",
    "        resultados.append((indice, remanente))  \n",
    "        # print(\"indice\", indice)      \n",
    "        # print(\"remanente\", remanente)\n",
    "        # print(\"distancia k\", distancia_k*(i+1))\n",
    "\n",
    "    return resultados"
   ]
  },
  {
   "cell_type": "code",
   "execution_count": 5,
   "metadata": {},
   "outputs": [
    {
     "name": "stdout",
     "output_type": "stream",
     "text": [
      "1 0\n",
      "1.1270178197468792 1.9919004352588767\n",
      "1.0716592199373032 4.3386076538143925\n",
      "0.7298186811911402 7.409722420975152\n",
      "-0.12596066349772572 11.672592448540488\n",
      "-1.9081841560728872 17.747106159907204\n",
      "-5.3191310268078515 26.47261753549143\n",
      "-11.519263053391999 38.98937631973318\n"
     ]
    }
   ],
   "source": [
    "puntos_p=[]\n",
    "for k in range(8):\n",
    "    x,y=p(k,0,m, delta, alpha, epsilon)\n",
    "    print(x,y)"
   ]
  },
  {
   "cell_type": "code",
   "execution_count": 6,
   "metadata": {},
   "outputs": [
    {
     "name": "stdout",
     "output_type": "stream",
     "text": [
      "[(3, 0.587729913137153), (4, 4.630258446005268), (5, 5.6348339145995965), (6, 2.0397163057702627), (6, 12.41280858976426)]\n"
     ]
    }
   ],
   "source": [
    "indices_y_distancias=r_h_cte(8, m, delta, alpha, epsilon, 7)\n",
    "print(indices_y_distancias)"
   ]
  },
  {
   "cell_type": "code",
   "execution_count": 7,
   "metadata": {},
   "outputs": [],
   "source": [
    "def u_normalizado(theta):\n",
    "    # Asegúrate de que esta función calcule correctamente el vector unitario\n",
    "    dx = np.cos(theta)\n",
    "    dy = np.sin(theta)\n",
    "    return np.array([dx, dy]) / np.linalg.norm([dx, dy])\n"
   ]
  },
  {
   "cell_type": "code",
   "execution_count": 8,
   "metadata": {},
   "outputs": [],
   "source": [
    "def nuevo_r(i, m, delta, alpha, epsilon, altura):\n",
    "    # Obtener los índices y remanentes relativos para los puntos r(i,0,0)\n",
    "    resultados = r_h_cte(i, m, delta, alpha, epsilon, altura)\n",
    "\n",
    "    # Inicializar lista para almacenar los puntos r(i,0,0)\n",
    "    puntos_r = []\n",
    "\n",
    "    # Calcular cada r(i,0,0)\n",
    "    for idx, remanente in resultados:\n",
    "        p_start = p(idx, 0, m, delta, alpha, epsilon)\n",
    "        print(\"punto de inicio\", p_start)\n",
    "\n",
    "        # Dirección unitaria usando theta\n",
    "        direccion = u_normalizado(theta(idx, 0, delta, alpha, epsilon, m))\n",
    "        print(\"direccion\", direccion)\n",
    "\n",
    "        # Vector desplazamiento desde p(idx,0) en dirección de p(idx+1,0)\n",
    "        desplazamiento = remanente * direccion\n",
    "        print(\"remanente\"   , remanente)\n",
    "        nuevo_punto_r = p_start + desplazamiento\n",
    "        print(\"nuevo punto r\", nuevo_punto_r)\n",
    "        puntos_r.append(nuevo_punto_r)\n",
    "    \n",
    "    return puntos_r\n"
   ]
  },
  {
   "cell_type": "code",
   "execution_count": 9,
   "metadata": {},
   "outputs": [
    {
     "name": "stdout",
     "output_type": "stream",
     "text": [
      "punto de inicio [0.72981868 7.40972242]\n",
      "direccion [-0.19682494  0.98043865]\n",
      "remanente 0.587729913137153\n",
      "nuevo punto r [0.61413878 7.98595554]\n",
      "punto de inicio [-0.12596066 11.67259245]\n",
      "direccion [-0.28152682  0.95955336]\n",
      "remanente 4.630258446005268\n",
      "nuevo punto r [-1.42950261 16.11557249]\n",
      "punto de inicio [-1.90818416 17.74710616]\n",
      "direccion [-0.36408611  0.93136529]\n",
      "remanente 5.6348339145995965\n",
      "nuevo punto r [-3.95974893 22.99519488]\n",
      "punto de inicio [-5.31913103 26.47261754]\n",
      "direccion [-0.44387449  0.89608897]\n",
      "remanente 2.0397163057702627\n",
      "nuevo punto r [-6.22450906 28.30038481]\n",
      "punto de inicio [-5.31913103 26.47261754]\n",
      "direccion [-0.44387449  0.89608897]\n",
      "remanente 12.41280858976426\n",
      "nuevo punto r [-10.8288601   37.59559837]\n",
      "[array([0.61413878, 7.98595554]), array([-1.42950261, 16.11557249]), array([-3.95974893, 22.99519488]), array([-6.22450906, 28.30038481]), array([-10.8288601 ,  37.59559837])]\n"
     ]
    }
   ],
   "source": [
    "coordenadas_r=nuevo_r(8, m, delta, alpha, epsilon, 7)\n",
    "print(coordenadas_r)"
   ]
  },
  {
   "cell_type": "code",
   "execution_count": 10,
   "metadata": {},
   "outputs": [
    {
     "name": "stdout",
     "output_type": "stream",
     "text": [
      "punto de inicio [0.72981868 7.40972242]\n",
      "direccion [-0.19682494  0.98043865]\n",
      "remanente 0.587729913137153\n",
      "nuevo punto r [0.61413878 7.98595554]\n",
      "punto de inicio [-0.12596066 11.67259245]\n",
      "direccion [-0.28152682  0.95955336]\n",
      "remanente 4.630258446005268\n",
      "nuevo punto r [-1.42950261 16.11557249]\n",
      "punto de inicio [-1.90818416 17.74710616]\n",
      "direccion [-0.36408611  0.93136529]\n",
      "remanente 5.6348339145995965\n",
      "nuevo punto r [-3.95974893 22.99519488]\n",
      "punto de inicio [-5.31913103 26.47261754]\n",
      "direccion [-0.44387449  0.89608897]\n",
      "remanente 2.0397163057702627\n",
      "nuevo punto r [-6.22450906 28.30038481]\n",
      "punto de inicio [-5.31913103 26.47261754]\n",
      "direccion [-0.44387449  0.89608897]\n",
      "remanente 12.41280858976426\n",
      "nuevo punto r [-10.8288601   37.59559837]\n"
     ]
    },
    {
     "data": {
      "image/png": "[encoded data removed]",
      "text/plain": [
       "<Figure size 640x480 with 1 Axes>"
      ]
     },
     "metadata": {},
     "output_type": "display_data"
    }
   ],
   "source": [
    "import matplotlib.pyplot as plt\n",
    "i_values = range(8)\n",
    "j_values = range(m+1)\n",
    "h=7\n",
    "# Inicializar matrices para almacenar coordenadas\n",
    "x_values_p = np.zeros((len(i_values), len(j_values)))\n",
    "y_values_p = np.zeros((len(i_values), len(j_values)))\n",
    "\n",
    "# Rellenar matrices con los puntos generados por pij\n",
    "for i in i_values:\n",
    "    for j in j_values:\n",
    "        x_values_p[i, j] = p(i, j, m, delta, alpha, epsilon)[0]\n",
    "        y_values_p[i, j] = p(i, j, m, delta, alpha, epsilon)[1]\n",
    "        #plt.text(x_values_p[i, j], y_values_p[i, j], f'p({i},{j})', fontsize=6, ha='right')\n",
    "        plt.text(x_values_p[i, j], y_values_p[i, j], f'({x_values_p[i, j]:.2f}, {y_values_p[i, j]:.2f})', fontsize=6, ha='right')\n",
    "# Graficar y conectar los puntos por j\n",
    "for j in j_values:\n",
    "    plt.plot(x_values_p[:, j], y_values_p[:, j], 'o-', label=f'j={j}')\n",
    "\n",
    "#graficar los puntos con i=0\n",
    "plt.plot(x_values_p[0, :], y_values_p[0, :], 'o-', label='i=0')\n",
    "\n",
    "puntos_r = nuevo_r(8, m, delta, alpha, epsilon, h) \n",
    "for punto in puntos_r:\n",
    "    plt.plot(punto[0], punto[1], 'rx')  # Marcar los puntos r(i,0,0) en rojo con una 'x'\n",
    "    plt.text(punto[0], punto[1], f'({punto[0]:.2f}, {punto[1]:.2f})', fontsize=6, ha='right')\n",
    "\n",
    "plt.axis('equal')\n",
    "# plt.ylim(0,40)\n",
    "# plt.xlim(-20, 20)\n",
    "plt.show()\n"
   ]
  },
  {
   "cell_type": "code",
   "execution_count": 11,
   "metadata": {},
   "outputs": [
    {
     "name": "stdout",
     "output_type": "stream",
     "text": [
      "1.5562873343694212\n"
     ]
    }
   ],
   "source": [
    "p1 = np.array([-10.8288601,   37.59559837])\n",
    "p2 = np.array([-11.52, 38.99])\n",
    "\n",
    "distancia_1 = e_distance(p1, p2)\n",
    "print(distancia_1)"
   ]
  },
  {
   "cell_type": "code",
   "execution_count": 12,
   "metadata": {},
   "outputs": [
    {
     "name": "stdout",
     "output_type": "stream",
     "text": [
      "[8.382549842901373, 7.3301671638088015, 5.768377473245067, 10.373092283993998]\n"
     ]
    }
   ],
   "source": [
    "modulos_r = []  # Lista para guardar los módulos de los puntos r_nuevos\n",
    "\n",
    "for punto in range(len(puntos_r)-1):\n",
    "    modulo = e_distance(puntos_r[punto], puntos_r[punto+1])\n",
    "    modulos_r.append(modulo)\n",
    "\n",
    "print(modulos_r)"
   ]
  },
  {
   "cell_type": "code",
   "execution_count": 13,
   "metadata": {},
   "outputs": [
    {
     "name": "stdout",
     "output_type": "stream",
     "text": [
      "1.768914782426685\n"
     ]
    }
   ],
   "source": [
    "print(theta(3, 0, delta, alpha, epsilon, m))"
   ]
  }
 ],
 "metadata": {
  "kernelspec": {
   "display_name": "origami",
   "language": "python",
   "name": "python3"
  },
  "language_info": {
   "codemirror_mode": {
    "name": "ipython",
    "version": 3
   },
   "file_extension": ".py",
   "mimetype": "text/x-python",
   "name": "python",
   "nbconvert_exporter": "python",
   "pygments_lexer": "ipython3",
   "version": "3.8.18"
  }
 },
 "nbformat": 4,
 "nbformat_minor": 2
}
